{
 "cells": [
  {
   "cell_type": "markdown",
   "metadata": {},
   "source": [
    "## Question 1 Banks\n",
    "\n",
    "Load the 49 Value Weighted industry portfolio returns. Limit the analysis to returns of the 49 VW portfolios from the most recent 5 years for which you have data i.e 2014-2018 both years inclusive. Also load the Market Caps of each of the 49 industries. Assume that the cap-weights as of the first month (2014-01) are the cap-weights we’ll use for this analysis.\n",
    "\n",
    "Which Industry had the highest risk contribution in the cap-weighted portfolio?\n",
    "\n",
    "## Question 2  0.104060\n",
    "Use the same data as the previous question. What was the highest risk contribution from any one industry in the cap-weighted portfolio?\n",
    "\n",
    "## Question 3   Steel    \n",
    "Use the same data set as the previous question.\n",
    "Which Industry had the highest risk contribution in the equal-weighted portfolio?\n",
    "\n",
    "## Question 4   0.030938\n",
    "\n",
    "Use the same data as the previous question.\n",
    "What was the highest risk contribution from any one industry in the equal-weighted portfolio?"
   ]
  },
  {
   "cell_type": "code",
   "execution_count": 4,
   "metadata": {},
   "outputs": [
    {
     "name": "stdout",
     "output_type": "stream",
     "text": [
      "The autoreload extension is already loaded. To reload it, use:\n",
      "  %reload_ext autoreload\n"
     ]
    }
   ],
   "source": [
    "import numpy as np\n",
    "import pandas as pd\n",
    "\n",
    "import edhec_risk_kit_206 as erk\n",
    "\n",
    "%load_ext autoreload\n",
    "%autoreload 2\n",
    "inds = ['Agric', 'Food', 'Soda', 'Beer', 'Smoke', 'Toys', 'Fun', 'Books',\n",
    "       'Hshld', 'Clths', 'Hlth', 'MedEq', 'Drugs', 'Chems', 'Rubbr', 'Txtls',\n",
    "       'BldMt', 'Cnstr', 'Steel', 'FabPr', 'Mach', 'ElcEq', 'Autos', 'Aero',\n",
    "       'Ships', 'Guns', 'Gold', 'Mines', 'Coal', 'Oil','Util','Telcm','PerSv',\n",
    "        'BusSv','Hardw','Softw','Chips','LabEq','Paper','Boxes','Trans','Whlsl',\n",
    "        'Rtail','Meals','Banks','Insur','RlEst','Fin','Other']\n",
    "ind_rets = erk.get_ind_returns(weighting=\"vw\", n_inds=49)[\"2014\":\"2018\"]\n",
    "ind_mcap = erk.get_ind_market_caps(49, weights=True)[\"2014\":\"2018\"]\n",
    "\n",
    "rets = ind_rets[inds]\n",
    "cov = rets.cov()"
   ]
  },
  {
   "cell_type": "code",
   "execution_count": 9,
   "metadata": {},
   "outputs": [
    {
     "data": {
      "text/html": [
       "<div>\n",
       "<style scoped>\n",
       "    .dataframe tbody tr th:only-of-type {\n",
       "        vertical-align: middle;\n",
       "    }\n",
       "\n",
       "    .dataframe tbody tr th {\n",
       "        vertical-align: top;\n",
       "    }\n",
       "\n",
       "    .dataframe thead th {\n",
       "        text-align: right;\n",
       "    }\n",
       "</style>\n",
       "<table border=\"1\" class=\"dataframe\">\n",
       "  <thead>\n",
       "    <tr style=\"text-align: right;\">\n",
       "      <th></th>\n",
       "      <th>Agric</th>\n",
       "      <th>Food</th>\n",
       "      <th>Soda</th>\n",
       "      <th>Beer</th>\n",
       "      <th>Smoke</th>\n",
       "      <th>Toys</th>\n",
       "      <th>Fun</th>\n",
       "      <th>Books</th>\n",
       "      <th>Hshld</th>\n",
       "      <th>Clths</th>\n",
       "      <th>...</th>\n",
       "      <th>Boxes</th>\n",
       "      <th>Trans</th>\n",
       "      <th>Whlsl</th>\n",
       "      <th>Rtail</th>\n",
       "      <th>Meals</th>\n",
       "      <th>Banks</th>\n",
       "      <th>Insur</th>\n",
       "      <th>RlEst</th>\n",
       "      <th>Fin</th>\n",
       "      <th>Other</th>\n",
       "    </tr>\n",
       "  </thead>\n",
       "  <tbody>\n",
       "    <tr>\n",
       "      <th>2014-01</th>\n",
       "      <td>0.003195</td>\n",
       "      <td>0.016964</td>\n",
       "      <td>0.009687</td>\n",
       "      <td>0.008478</td>\n",
       "      <td>0.012581</td>\n",
       "      <td>0.001497</td>\n",
       "      <td>0.007838</td>\n",
       "      <td>0.000974</td>\n",
       "      <td>0.020731</td>\n",
       "      <td>0.009513</td>\n",
       "      <td>...</td>\n",
       "      <td>0.002065</td>\n",
       "      <td>0.021903</td>\n",
       "      <td>0.012734</td>\n",
       "      <td>0.067461</td>\n",
       "      <td>0.015058</td>\n",
       "      <td>0.087880</td>\n",
       "      <td>0.040513</td>\n",
       "      <td>0.002009</td>\n",
       "      <td>0.024015</td>\n",
       "      <td>0.050001</td>\n",
       "    </tr>\n",
       "    <tr>\n",
       "      <th>2014-02</th>\n",
       "      <td>0.003036</td>\n",
       "      <td>0.016957</td>\n",
       "      <td>0.009283</td>\n",
       "      <td>0.008744</td>\n",
       "      <td>0.011959</td>\n",
       "      <td>0.001417</td>\n",
       "      <td>0.008191</td>\n",
       "      <td>0.000944</td>\n",
       "      <td>0.020050</td>\n",
       "      <td>0.009116</td>\n",
       "      <td>...</td>\n",
       "      <td>0.002064</td>\n",
       "      <td>0.022260</td>\n",
       "      <td>0.012890</td>\n",
       "      <td>0.064583</td>\n",
       "      <td>0.014811</td>\n",
       "      <td>0.087787</td>\n",
       "      <td>0.039718</td>\n",
       "      <td>0.002034</td>\n",
       "      <td>0.023512</td>\n",
       "      <td>0.048411</td>\n",
       "    </tr>\n",
       "    <tr>\n",
       "      <th>2014-03</th>\n",
       "      <td>0.002994</td>\n",
       "      <td>0.017020</td>\n",
       "      <td>0.009058</td>\n",
       "      <td>0.008503</td>\n",
       "      <td>0.011823</td>\n",
       "      <td>0.001396</td>\n",
       "      <td>0.008552</td>\n",
       "      <td>0.000977</td>\n",
       "      <td>0.019846</td>\n",
       "      <td>0.009201</td>\n",
       "      <td>...</td>\n",
       "      <td>0.002129</td>\n",
       "      <td>0.021689</td>\n",
       "      <td>0.012886</td>\n",
       "      <td>0.065351</td>\n",
       "      <td>0.014813</td>\n",
       "      <td>0.086435</td>\n",
       "      <td>0.039411</td>\n",
       "      <td>0.002040</td>\n",
       "      <td>0.023150</td>\n",
       "      <td>0.047475</td>\n",
       "    </tr>\n",
       "    <tr>\n",
       "      <th>2014-04</th>\n",
       "      <td>0.003093</td>\n",
       "      <td>0.017461</td>\n",
       "      <td>0.009103</td>\n",
       "      <td>0.008829</td>\n",
       "      <td>0.012118</td>\n",
       "      <td>0.001452</td>\n",
       "      <td>0.007893</td>\n",
       "      <td>0.000969</td>\n",
       "      <td>0.020102</td>\n",
       "      <td>0.009058</td>\n",
       "      <td>...</td>\n",
       "      <td>0.002090</td>\n",
       "      <td>0.022153</td>\n",
       "      <td>0.012870</td>\n",
       "      <td>0.064142</td>\n",
       "      <td>0.014993</td>\n",
       "      <td>0.088473</td>\n",
       "      <td>0.040032</td>\n",
       "      <td>0.001975</td>\n",
       "      <td>0.023237</td>\n",
       "      <td>0.049913</td>\n",
       "    </tr>\n",
       "    <tr>\n",
       "      <th>2014-05</th>\n",
       "      <td>0.003008</td>\n",
       "      <td>0.017468</td>\n",
       "      <td>0.009550</td>\n",
       "      <td>0.008367</td>\n",
       "      <td>0.012834</td>\n",
       "      <td>0.001436</td>\n",
       "      <td>0.007549</td>\n",
       "      <td>0.000952</td>\n",
       "      <td>0.020638</td>\n",
       "      <td>0.008730</td>\n",
       "      <td>...</td>\n",
       "      <td>0.002063</td>\n",
       "      <td>0.022437</td>\n",
       "      <td>0.012816</td>\n",
       "      <td>0.063659</td>\n",
       "      <td>0.014827</td>\n",
       "      <td>0.084368</td>\n",
       "      <td>0.039481</td>\n",
       "      <td>0.001918</td>\n",
       "      <td>0.022710</td>\n",
       "      <td>0.051581</td>\n",
       "    </tr>\n",
       "  </tbody>\n",
       "</table>\n",
       "<p>5 rows × 49 columns</p>\n",
       "</div>"
      ],
      "text/plain": [
       "            Agric      Food      Soda      Beer     Smoke      Toys       Fun  \\\n",
       "2014-01  0.003195  0.016964  0.009687  0.008478  0.012581  0.001497  0.007838   \n",
       "2014-02  0.003036  0.016957  0.009283  0.008744  0.011959  0.001417  0.008191   \n",
       "2014-03  0.002994  0.017020  0.009058  0.008503  0.011823  0.001396  0.008552   \n",
       "2014-04  0.003093  0.017461  0.009103  0.008829  0.012118  0.001452  0.007893   \n",
       "2014-05  0.003008  0.017468  0.009550  0.008367  0.012834  0.001436  0.007549   \n",
       "\n",
       "            Books     Hshld     Clths  ...     Boxes     Trans     Whlsl  \\\n",
       "2014-01  0.000974  0.020731  0.009513  ...  0.002065  0.021903  0.012734   \n",
       "2014-02  0.000944  0.020050  0.009116  ...  0.002064  0.022260  0.012890   \n",
       "2014-03  0.000977  0.019846  0.009201  ...  0.002129  0.021689  0.012886   \n",
       "2014-04  0.000969  0.020102  0.009058  ...  0.002090  0.022153  0.012870   \n",
       "2014-05  0.000952  0.020638  0.008730  ...  0.002063  0.022437  0.012816   \n",
       "\n",
       "            Rtail     Meals     Banks     Insur     RlEst       Fin     Other  \n",
       "2014-01  0.067461  0.015058  0.087880  0.040513  0.002009  0.024015  0.050001  \n",
       "2014-02  0.064583  0.014811  0.087787  0.039718  0.002034  0.023512  0.048411  \n",
       "2014-03  0.065351  0.014813  0.086435  0.039411  0.002040  0.023150  0.047475  \n",
       "2014-04  0.064142  0.014993  0.088473  0.040032  0.001975  0.023237  0.049913  \n",
       "2014-05  0.063659  0.014827  0.084368  0.039481  0.001918  0.022710  0.051581  \n",
       "\n",
       "[5 rows x 49 columns]"
      ]
     },
     "execution_count": 9,
     "metadata": {},
     "output_type": "execute_result"
    }
   ],
   "source": [
    "ind_mcap.head()"
   ]
  },
  {
   "cell_type": "code",
   "execution_count": 39,
   "metadata": {},
   "outputs": [
    {
     "data": {
      "text/plain": [
       "array([[0.0031954 , 0.016964  , 0.00968741, 0.00847835, 0.01258132,\n",
       "        0.00149744, 0.00783822, 0.000974  , 0.02073088, 0.00951287,\n",
       "        0.00471324, 0.01389502, 0.08297039, 0.01934482, 0.00183417,\n",
       "        0.00097041, 0.00436593, 0.00615298, 0.00357226, 0.00027065,\n",
       "        0.02313978, 0.0059113 , 0.01394744, 0.01377183, 0.00085953,\n",
       "        0.0026976 , 0.00068552, 0.00397545, 0.00089342, 0.07591993,\n",
       "        0.03289041, 0.0549345 , 0.00321682, 0.0198994 , 0.01648722,\n",
       "        0.09593806, 0.05833697, 0.01293685, 0.01037135, 0.00206452,\n",
       "        0.02190339, 0.01273357, 0.06746079, 0.01505812, 0.0878797 ,\n",
       "        0.04051257, 0.002009  , 0.02401469, 0.05000054]])"
      ]
     },
     "execution_count": 39,
     "metadata": {},
     "output_type": "execute_result"
    }
   ],
   "source": [
    "cw1 = ind_mcap['2014-01'].values\n",
    "cw1"
   ]
  },
  {
   "cell_type": "code",
   "execution_count": 41,
   "metadata": {},
   "outputs": [],
   "source": [
    "cw = pd.Series([0.0031954, 0.016964, 0.00968741, 0.00847835, 0.01258132,\n",
    "        0.00149744, 0.00783822, 0.000974, 0.02073088, 0.00951287,\n",
    "        0.00471324, 0.01389502, 0.08297039, 0.01934482, 0.00183417,\n",
    "        0.00097041, 0.00436593, 0.00615298, 0.00357226, 0.00027065,\n",
    "        0.02313978, 0.0059113, 0.01394744, 0.01377183, 0.00085953,\n",
    "        0.0026976, 0.00068552, 0.00397545, 0.00089342, 0.07591993,\n",
    "        0.03289041, 0.0549345, 0.00321682, 0.0198994, 0.01648722,\n",
    "        0.09593806, 0.05833697, 0.01293685, 0.01037135, 0.00206452,\n",
    "        0.02190339, 0.01273357, 0.06746079, 0.01505812, 0.0878797,\n",
    "        0.04051257, 0.002009, 0.02401469, 0.05000054], index = inds)"
   ]
  },
  {
   "cell_type": "code",
   "execution_count": 42,
   "metadata": {},
   "outputs": [
    {
     "data": {
      "text/plain": [
       "Agric    0.003195\n",
       "Food     0.016964\n",
       "Soda     0.009687\n",
       "Beer     0.008478\n",
       "Smoke    0.012581\n",
       "dtype: float64"
      ]
     },
     "execution_count": 42,
     "metadata": {},
     "output_type": "execute_result"
    }
   ],
   "source": [
    "cw.head()"
   ]
  },
  {
   "cell_type": "code",
   "execution_count": 43,
   "metadata": {},
   "outputs": [],
   "source": [
    "def risk_contribution(w,cov):\n",
    "    \"\"\"\n",
    "    Compute the contributions to risk of the constituents of a portfolio, given a set of portfolio weights and a covariance matrix\n",
    "    \"\"\"\n",
    "    total_portfolio_var = erk.portfolio_vol(w,cov)**2\n",
    "    # Marginal contribution of each constituent\n",
    "    marginal_contrib = cov@w\n",
    "    risk_contrib = np.multiply(marginal_contrib,w.T)/total_portfolio_var\n",
    "    return risk_contrib"
   ]
  },
  {
   "cell_type": "code",
   "execution_count": 44,
   "metadata": {
    "collapsed": true,
    "jupyter": {
     "outputs_hidden": true
    }
   },
   "outputs": [
    {
     "data": {
      "image/png": "[encoded data removed]",
      "text/plain": [
       "<Figure size 432x288 with 1 Axes>"
      ]
     },
     "metadata": {
      "needs_background": "light"
     },
     "output_type": "display_data"
    }
   ],
   "source": [
    "risk_contribution(cw, cov).plot.bar(title=\"Risk Contributions of an cw49\");"
   ]
  },
  {
   "cell_type": "code",
   "execution_count": 49,
   "metadata": {},
   "outputs": [
    {
     "data": {
      "text/plain": [
       "Gold     0.000096\n",
       "FabPr    0.000309\n",
       "Coal     0.000870\n",
       "Books    0.001203\n",
       "Txtls    0.001276\n",
       "Ships    0.001276\n",
       "Toys     0.001796\n",
       "Rubbr    0.001972\n",
       "Guns     0.002263\n",
       "Boxes    0.002595\n",
       "RlEst    0.002803\n",
       "Agric    0.002886\n",
       "PerSv    0.003219\n",
       "Hlth     0.004203\n",
       "Beer     0.004776\n",
       "Mines    0.004954\n",
       "Steel    0.005182\n",
       "BldMt    0.006061\n",
       "Soda     0.006309\n",
       "Smoke    0.006470\n",
       "Clths    0.006676\n",
       "Cnstr    0.007428\n",
       "ElcEq    0.007693\n",
       "Fun      0.009335\n",
       "Util     0.009626\n",
       "Food     0.010084\n",
       "Meals    0.010572\n",
       "Paper    0.011139\n",
       "Hshld    0.011568\n",
       "MedEq    0.012792\n",
       "Whlsl    0.013434\n",
       "LabEq    0.014527\n",
       "Aero     0.014904\n",
       "Autos    0.016170\n",
       "Hardw    0.018487\n",
       "BusSv    0.021816\n",
       "Chems    0.025071\n",
       "Trans    0.026039\n",
       "Fin      0.028291\n",
       "Mach     0.030455\n",
       "Insur    0.039418\n",
       "Other    0.042484\n",
       "Telcm    0.046113\n",
       "Chips    0.063869\n",
       "Rtail    0.070120\n",
       "Drugs    0.084653\n",
       "Oil      0.088914\n",
       "Softw    0.093745\n",
       "Banks    0.104060\n",
       "dtype: float64"
      ]
     },
     "execution_count": 49,
     "metadata": {},
     "output_type": "execute_result"
    }
   ],
   "source": [
    "risk_contribution(cw,cov).sort_values()"
   ]
  },
  {
   "cell_type": "code",
   "execution_count": 50,
   "metadata": {
    "collapsed": true,
    "jupyter": {
     "outputs_hidden": true
    }
   },
   "outputs": [
    {
     "data": {
      "image/png": "[encoded data removed]",
      "text/plain": [
       "<Figure size 432x288 with 1 Axes>"
      ]
     },
     "metadata": {
      "needs_background": "light"
     },
     "output_type": "display_data"
    }
   ],
   "source": [
    "risk_contribution(erk.weight_ew(rets), cov).plot.bar(title=\"Risk Contributions of an EW portfolio\");"
   ]
  },
  {
   "cell_type": "code",
   "execution_count": 51,
   "metadata": {},
   "outputs": [
    {
     "data": {
      "text/plain": [
       "Util     0.005916\n",
       "Smoke    0.009393\n",
       "Hshld    0.010492\n",
       "Beer     0.010500\n",
       "Food     0.011227\n",
       "Soda     0.012041\n",
       "Gold     0.012449\n",
       "Clths    0.012855\n",
       "Meals    0.013261\n",
       "Telcm    0.015910\n",
       "Other    0.015948\n",
       "Guns     0.015950\n",
       "Agric    0.016982\n",
       "Hlth     0.017251\n",
       "Softw    0.017357\n",
       "MedEq    0.017747\n",
       "Insur    0.018249\n",
       "Rtail    0.019039\n",
       "Drugs    0.019058\n",
       "PerSv    0.019258\n",
       "Chips    0.020140\n",
       "Hardw    0.020570\n",
       "BusSv    0.020757\n",
       "Whlsl    0.020881\n",
       "Paper    0.021104\n",
       "Aero     0.021306\n",
       "LabEq    0.021497\n",
       "Rubbr    0.021541\n",
       "Banks    0.021622\n",
       "Fun      0.022200\n",
       "Fin      0.022416\n",
       "Trans    0.022935\n",
       "Autos    0.023338\n",
       "Toys     0.023371\n",
       "Oil      0.023372\n",
       "Cnstr    0.024585\n",
       "Books    0.024772\n",
       "Boxes    0.025176\n",
       "Chems    0.026042\n",
       "ElcEq    0.026376\n",
       "Txtls    0.026679\n",
       "RlEst    0.026693\n",
       "FabPr    0.027473\n",
       "Mach     0.027558\n",
       "BldMt    0.028106\n",
       "Mines    0.028641\n",
       "Coal     0.029025\n",
       "Ships    0.030005\n",
       "Steel    0.030938\n",
       "dtype: float64"
      ]
     },
     "execution_count": 51,
     "metadata": {},
     "output_type": "execute_result"
    }
   ],
   "source": [
    "risk_contribution(erk.weight_ew(rets), cov).sort_values()"
   ]
  },
  {
   "cell_type": "markdown",
   "metadata": {},
   "source": [
    "## Question 5   Util\n",
    "Using the Sample Covariance over the 5 year period, compute the weights of the ERC portfolio. What sector portfolio is assigned the highest weight in the ERC portfolio?\n",
    "\n",
    "## Question 6   0.052156\n",
    "Using the same data as the previous question (Sample Covariance over the 5 year period, and the initial capweights over that period) compute the weights of the ERC portfolio. What is the weight of the sector portfolio that is assigned the highest weight in the ERC portfolio?\n",
    "\n",
    "## Question 7   Steel\n",
    "Use the same data as the previous question (Sample Covariance over the 5 year period, and the initial capweights over that period) and the weights of ERC portfolio. What sector portfolio is assigned the lowest weight in the ERC portfolio?\n",
    "\n",
    "## Question 8   0.012809\n",
    "What is the weight of the sector portfolio that is assigned the lowest weight in the ERC portfolio?"
   ]
  },
  {
   "cell_type": "code",
   "execution_count": 52,
   "metadata": {},
   "outputs": [],
   "source": [
    "from scipy.optimize import minimize\n",
    "\n",
    "def target_risk_contributions(target_risk, cov):\n",
    "    \"\"\"\n",
    "    Returns the weights of the portfolio that gives you the weights such \n",
    "    that the contributions to portfolio risk are as close as possible to\n",
    "    the target_risk, given the covariance matrix\n",
    "    \"\"\"\n",
    "    n = cov.shape[0]\n",
    "    init_guess = np.repeat(1/n, n)\n",
    "    bounds = ((0.0, 1.0),) * n # an N-tuple of 2-tuples!\n",
    "    # construct the constraints\n",
    "    weights_sum_to_1 = {'type': 'eq',\n",
    "                        'fun': lambda weights: np.sum(weights) - 1\n",
    "    }\n",
    "    def msd_risk(weights, target_risk, cov):\n",
    "        \"\"\"\n",
    "        Returns the Mean Squared Difference in risk contributions\n",
    "        between weights and target_risk\n",
    "        \"\"\"\n",
    "        w_contribs = risk_contribution(weights, cov)\n",
    "        return ((w_contribs-target_risk)**2).sum()\n",
    "    \n",
    "    weights = minimize(msd_risk, init_guess,\n",
    "                       args=(target_risk, cov), method='SLSQP',\n",
    "                       options={'disp': False},\n",
    "                       constraints=(weights_sum_to_1,),\n",
    "                       bounds=bounds)\n",
    "    return weights.x\n",
    "\n",
    "def equal_risk_contributions(cov):\n",
    "    \"\"\"\n",
    "    Returns the weights of the portfolio that equalizes the contributions\n",
    "    of the constituents based on the given covariance matrix\n",
    "    \"\"\"\n",
    "    n = cov.shape[0]\n",
    "    return target_risk_contributions(target_risk=np.repeat(1/n,n), cov=cov)"
   ]
  },
  {
   "cell_type": "code",
   "execution_count": 53,
   "metadata": {},
   "outputs": [],
   "source": [
    "def weight_erc(r, cov_estimator=erk.sample_cov, **kwargs):\n",
    "    \"\"\"\n",
    "    Produces the weights of the ERC portfolio given a covariance matrix of the returns \n",
    "    \"\"\"\n",
    "    est_cov = cov_estimator(r, **kwargs)\n",
    "    return equal_risk_contributions(est_cov)"
   ]
  },
  {
   "cell_type": "code",
   "execution_count": 60,
   "metadata": {
    "collapsed": true,
    "jupyter": {
     "outputs_hidden": true
    }
   },
   "outputs": [
    {
     "data": {
      "text/plain": [
       "18    0.012809\n",
       "24    0.013041\n",
       "16    0.013790\n",
       "27    0.013951\n",
       "20    0.014292\n",
       "46    0.014429\n",
       "15    0.014440\n",
       "21    0.014747\n",
       "28    0.014759\n",
       "13    0.014918\n",
       "19    0.015183\n",
       "39    0.015247\n",
       "7     0.015425\n",
       "17    0.015924\n",
       "5     0.016271\n",
       "22    0.016726\n",
       "40    0.016763\n",
       "29    0.016764\n",
       "6     0.017663\n",
       "14    0.017747\n",
       "37    0.017751\n",
       "38    0.017761\n",
       "47    0.017833\n",
       "23    0.017984\n",
       "41    0.018421\n",
       "44    0.018445\n",
       "33    0.018456\n",
       "34    0.018654\n",
       "36    0.018878\n",
       "42    0.019567\n",
       "12    0.019730\n",
       "32    0.019924\n",
       "11    0.020907\n",
       "45    0.020970\n",
       "35    0.021963\n",
       "10    0.022246\n",
       "0     0.022479\n",
       "31    0.023133\n",
       "48    0.023423\n",
       "25    0.023809\n",
       "26    0.027282\n",
       "43    0.027907\n",
       "2     0.028233\n",
       "9     0.029129\n",
       "1     0.030251\n",
       "3     0.032028\n",
       "4     0.032606\n",
       "8     0.033184\n",
       "30    0.052156\n",
       "dtype: float64"
      ]
     },
     "execution_count": 60,
     "metadata": {},
     "output_type": "execute_result"
    }
   ],
   "source": [
    "pd.Series(weight_erc(ind_rets, cov_estimator=erk.sample_cov).tolist()).sort_values()"
   ]
  },
  {
   "cell_type": "code",
   "execution_count": 64,
   "metadata": {},
   "outputs": [
    {
     "data": {
      "text/plain": [
       "'Util'"
      ]
     },
     "execution_count": 64,
     "metadata": {},
     "output_type": "execute_result"
    }
   ],
   "source": [
    "inds[30]"
   ]
  },
  {
   "cell_type": "code",
   "execution_count": 65,
   "metadata": {},
   "outputs": [
    {
     "data": {
      "text/plain": [
       "'Steel'"
      ]
     },
     "execution_count": 65,
     "metadata": {},
     "output_type": "execute_result"
    }
   ],
   "source": [
    "inds[18]"
   ]
  },
  {
   "cell_type": "markdown",
   "metadata": {},
   "source": [
    "## Question 9  0.103964\n",
    "Use the same data as you used in the previous question (Sample Covariance over the 5  year period and the initial capweights over that period).\n",
    "\n",
    "In the cap-weighted portfolio what is the difference in risk contributions between the largest contributor to portfolio risk and the smallest contributor to portfolio risk?\n",
    "\n",
    "## Question 10  0.025022\n",
    "In the equal-weighted portfolio what is the difference in risk contributions between the largest contributor to portfolio risk and the smallest contributor to portfolio risk?"
   ]
  },
  {
   "cell_type": "code",
   "execution_count": null,
   "metadata": {},
   "outputs": [],
   "source": []
  }
 ],
 "metadata": {
  "kernelspec": {
   "display_name": "Python 3",
   "language": "python",
   "name": "python3"
  },
  "language_info": {
   "codemirror_mode": {
    "name": "ipython",
    "version": 3
   },
   "file_extension": ".py",
   "mimetype": "text/x-python",
   "name": "python",
   "nbconvert_exporter": "python",
   "pygments_lexer": "ipython3",
   "version": "3.8.3"
  }
 },
 "nbformat": 4,
 "nbformat_minor": 4
}
